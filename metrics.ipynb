{
 "metadata": {
  "language_info": {
   "codemirror_mode": {
    "name": "ipython",
    "version": 3
   },
   "file_extension": ".py",
   "mimetype": "text/x-python",
   "name": "python",
   "nbconvert_exporter": "python",
   "pygments_lexer": "ipython3",
   "version": "3.8.3"
  },
  "orig_nbformat": 2,
  "kernelspec": {
   "name": "python383jvsc74a57bd0dca0ade3e726a953b501b15e8e990130d2b7799f14cfd9f4271676035ebe5511",
   "display_name": "Python 3.8.3 64-bit ('base': conda)"
  }
 },
 "nbformat": 4,
 "nbformat_minor": 2,
 "cells": [
  {
   "cell_type": "code",
   "execution_count": 1,
   "metadata": {},
   "outputs": [],
   "source": [
    "import numpy as np"
   ]
  },
  {
   "cell_type": "code",
   "execution_count": 287,
   "metadata": {},
   "outputs": [
    {
     "output_type": "stream",
     "name": "stdout",
     "text": [
      "[0 0 1 0 1 0 1 1 1 1 1 1 0 0 0 0 0 1 0 1 1 0 1 1 0 1 1 1 0 1 1 1 0 1 0 1 0\n 0 0 1 1 1 0 1 1 0 0 0 1 1 1 1 1 0 0 1 1 1 1 0 0 0 0 0 0 1 1 1 0 1 1 0 0 0\n 0 1 1 1 1 1 0 1 1 1 0 1 0 0 1 1 0 0 0 1 1 1 0 0 0 1]\n[1 0 1 1 0 0 0 0 1 1 0 0 0 0 0 0 0 0 1 1 0 1 1 1 1 0 0 0 1 1 0 0 0 0 0 1 1\n 1 1 0 1 1 1 1 0 0 0 0 1 0 0 1 0 1 1 0 0 1 1 0 0 1 0 1 0 1 0 0 0 0 0 1 1 0\n 0 0 0 0 0 0 1 1 0 1 1 1 0 0 1 1 0 1 0 0 1 1 1 0 0 1]\n"
     ]
    }
   ],
   "source": [
    "actual = np.random.randint(low=0, high=2, size=(100,))\n",
    "pred = np.random.randint(low=0, high=2, size=(100,))\n",
    "\n",
    "print(actual)\n",
    "print(pred)"
   ]
  },
  {
   "cell_type": "code",
   "execution_count": 288,
   "metadata": {},
   "outputs": [],
   "source": [
    "def confusion_matrix(pred, actual):\n",
    "    K = len(np.unique(actual))\n",
    "\n",
    "    result = np.zeros((K,K))\n",
    "\n",
    "    # Rows are truth Columns are predictions\n",
    "    for i in range(len(actual)):\n",
    "        result[actual[i]][pred[i]] += 1\n",
    "\n",
    "    precision = []\n",
    "    recall = []\n",
    "\n",
    "\n",
    "    for i in range(K):\n",
    "        precision.append(result[i,i] / np.sum(result[i,:]))\n",
    "        recall.append(result[i,i] / result[i,:].T.sum())\n",
    "\n",
    "    print(precision)\n",
    "    print(recall)\n",
    "    \n",
    "    precision = float(np.sum(precision) / len(precision))\n",
    "    recall = float(np.sum(recall) / len(recall))\n",
    "\n",
    "    f1 = 2 * (precision * recall) / (precision + recall)\n",
    "\n",
    "    print(precision)\n",
    "    print(recall)\n",
    "    print(f1)\n",
    "\n",
    "    return precision, recall, f1"
   ]
  },
  {
   "cell_type": "code",
   "execution_count": 289,
   "metadata": {},
   "outputs": [
    {
     "output_type": "stream",
     "name": "stdout",
     "text": [
      "[0.44642857142857145, 0.5454545454545454]\n[0.44642857142857145, 0.5454545454545454]\n0.4959415584415584\n0.4959415584415584\n0.4959415584415584\n"
     ]
    },
    {
     "output_type": "execute_result",
     "data": {
      "text/plain": [
       "(0.4959415584415584, 0.4959415584415584, 0.4959415584415584)"
      ]
     },
     "metadata": {},
     "execution_count": 289
    }
   ],
   "source": [
    "confusion_matrix(actual, pred)"
   ]
  },
  {
   "cell_type": "code",
   "execution_count": 290,
   "metadata": {},
   "outputs": [],
   "source": [
    "from sklearn.metrics import precision_score, recall_score"
   ]
  },
  {
   "cell_type": "code",
   "execution_count": 297,
   "metadata": {},
   "outputs": [
    {
     "output_type": "execute_result",
     "data": {
      "text/plain": [
       "0.49"
      ]
     },
     "metadata": {},
     "execution_count": 297
    }
   ],
   "source": [
    "precision_score(actual, pred, average='micro')"
   ]
  },
  {
   "cell_type": "code",
   "execution_count": 298,
   "metadata": {},
   "outputs": [
    {
     "output_type": "execute_result",
     "data": {
      "text/plain": [
       "0.49"
      ]
     },
     "metadata": {},
     "execution_count": 298
    }
   ],
   "source": [
    "recall_score(actual, pred, average='micro')"
   ]
  },
  {
   "cell_type": "code",
   "execution_count": null,
   "metadata": {},
   "outputs": [],
   "source": []
  },
  {
   "cell_type": "code",
   "execution_count": null,
   "metadata": {},
   "outputs": [],
   "source": []
  }
 ]
}